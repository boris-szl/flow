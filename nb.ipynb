{
 "cells": [
  {
   "cell_type": "markdown",
   "id": "70ed5557-b567-43e0-8d70-7c44dcf4f0f3",
   "metadata": {},
   "source": [
    "# Parsr - Jupyter Environment"
   ]
  },
  {
   "cell_type": "code",
   "execution_count": 54,
   "id": "a08c0295-daed-4df0-9b4f-b181651926ea",
   "metadata": {},
   "outputs": [],
   "source": [
    "import requests\n",
    "import os\n",
    "import webbrowser\n",
    "import time\n",
    "import re\n",
    "import pandas as pd\n",
    "\n",
    "# selenium modules\n",
    "from selenium import webdriver\n",
    "from selenium.webdriver.common.by import By\n",
    "from selenium.webdriver.support.ui import WebDriverWait as wait\n",
    "from selenium.webdriver.support import expected_conditions as EC\n",
    "\n",
    "def hideBrowser():\n",
    "    from selenium.webdriver.firefox.options import Options\n",
    "    options = Options()\n",
    "    options.add_argument('--headless')\n",
    "    driver = webdriver.Firefox(options=options)\n",
    "    driver.get('https://www.google.com/doodles')\n",
    "\n",
    "    print('Title: \"{}\"'.format(driver.title))\n",
    "    driver.quit()\n",
    "\n",
    "def openWebrowser():\n",
    "    URL = \"https://www.bundesanzeiger.de/pub/de/suche-rechnungslegung?\"\n",
    "    global browser\n",
    "    browser = webdriver.Firefox(executable_path=\"./geckodriver\")\n",
    "    browser.get(URL)\n",
    "\n",
    "# accept cookies\n",
    "def acceptCookies():\n",
    "    cookies = browser.find_element_by_id('cc_all').click()\n",
    "    return cookies\n",
    "\n",
    "def companyLookup():\n",
    "    searchBar = browser.find_element_by_id('id7')\n",
    "    global company_name\n",
    "    company_name = input(\"Please input the company name you are looking for:\\n\")\n",
    "    searchBar.send_keys(str(company_name))\n",
    "    searchBar.submit()\n",
    "\n",
    "def selectJahresabschlüsse():\n",
    "    search_field = wait(browser, 10).until(EC.presence_of_element_located((By.XPATH, '//*[@id=\"dropdownMenuButton\"]')))\n",
    "    search_field.click()\n",
    "    jahresabschluesse = wait(browser, 10).until(EC.presence_of_element_located((By.XPATH, '//*[@id=\"9135\"]/a')))\n",
    "    jahresabschluesse.click()\n",
    "    \n",
    "\n",
    "def createListForCompanyNames():\n",
    "    wait(browser, 10).until(EC.presence_of_element_located((By.XPATH, '/html/body/div[1]/section[2]/div/div/div/div/div[6]')))\n",
    "    results = wait(browser, 10).until(EC.presence_of_element_located((By.XPATH, '//*[@id=\"content\"]/section[2]/div/div/div/div/div[6]')))\n",
    "    print(results.text + \"\\n\")\n",
    "    results_text = results.text\n",
    "    list2 = results_text.splitlines()\n",
    "    print(list2)\n",
    "    r = re.compile(r''+company_name, re.I)\n",
    "    company_name_list = list(filter(r.match, list2))\n",
    "    print(company_name_list)\n",
    "    return company_name_list\n",
    "\n",
    "def createListForCompanyBalanceSheets():\n",
    "    return 0\n",
    "\n",
    "def getLinks():\n",
    "    links = browser.find_elements_by_class_name('info')\n",
    "    for link in links:\n",
    "        link.get_attribute(\"href\")\n",
    "\n",
    "\n",
    "def downloadHTML(link):\n",
    "    res = requests.get(link)\n",
    "    return res\n",
    "\n"
   ]
  },
  {
   "cell_type": "code",
   "execution_count": 55,
   "id": "6f2b6b1d-29ae-4e92-9244-e3fb186f2c1e",
   "metadata": {},
   "outputs": [],
   "source": [
    "def main():\n",
    "    openWebrowser()\n",
    "    acceptCookies()\n",
    "    companyLookup()\n",
    "    selectJahresabschlüsse()\n",
    "    getLinks()"
   ]
  },
  {
   "cell_type": "markdown",
   "id": "9441eaea-c1e2-4a47-a39d-a558834dbd2d",
   "metadata": {},
   "source": [
    "## Run Programm"
   ]
  },
  {
   "cell_type": "code",
   "execution_count": 56,
   "id": "69d72af8-b1a2-4f67-9c5b-5bfbe23f1303",
   "metadata": {},
   "outputs": [
    {
     "name": "stderr",
     "output_type": "stream",
     "text": [
      "/var/folders/js/lf9xkn9x7yg146j_k40r_0dw0000gn/T/ipykernel_13761/2524261081.py:27: DeprecationWarning: executable_path has been deprecated, please pass in a Service object\n",
      "  browser = webdriver.Firefox(executable_path=\"./geckodriver\")\n",
      "/var/folders/js/lf9xkn9x7yg146j_k40r_0dw0000gn/T/ipykernel_13761/2524261081.py:32: DeprecationWarning: find_element_by_* commands are deprecated. Please use find_element() instead\n",
      "  cookies = browser.find_element_by_id('cc_all').click()\n",
      "/var/folders/js/lf9xkn9x7yg146j_k40r_0dw0000gn/T/ipykernel_13761/2524261081.py:36: DeprecationWarning: find_element_by_* commands are deprecated. Please use find_element() instead\n",
      "  searchBar = browser.find_element_by_id('id7')\n"
     ]
    },
    {
     "name": "stdin",
     "output_type": "stream",
     "text": [
      "Please input the company name you are looking for:\n",
      " signa\n"
     ]
    },
    {
     "name": "stderr",
     "output_type": "stream",
     "text": [
      "/var/folders/js/lf9xkn9x7yg146j_k40r_0dw0000gn/T/ipykernel_13761/2524261081.py:65: DeprecationWarning: find_elements_by_* commands are deprecated. Please use find_elements() instead\n",
      "  links = browser.find_elements_by_class_name('info')\n"
     ]
    }
   ],
   "source": [
    "if __name__ == \"__main__\":\n",
    "    main()"
   ]
  },
  {
   "cell_type": "code",
   "execution_count": null,
   "id": "7e58dfb4-461e-4739-90bc-c7099c917094",
   "metadata": {},
   "outputs": [],
   "source": []
  },
  {
   "cell_type": "code",
   "execution_count": null,
   "id": "7b704ce9-69c2-4510-ae9c-0b1cc37d70b0",
   "metadata": {},
   "outputs": [],
   "source": []
  },
  {
   "cell_type": "code",
   "execution_count": null,
   "id": "42aee898-b0fb-4264-ac1f-d3343fd824b2",
   "metadata": {},
   "outputs": [],
   "source": []
  },
  {
   "cell_type": "code",
   "execution_count": null,
   "id": "c368e544-32e5-4f92-878c-df03c5777589",
   "metadata": {},
   "outputs": [],
   "source": []
  }
 ],
 "metadata": {
  "kernelspec": {
   "display_name": "Python 3 (ipykernel)",
   "language": "python",
   "name": "python3"
  },
  "language_info": {
   "codemirror_mode": {
    "name": "ipython",
    "version": 3
   },
   "file_extension": ".py",
   "mimetype": "text/x-python",
   "name": "python",
   "nbconvert_exporter": "python",
   "pygments_lexer": "ipython3",
   "version": "3.8.8"
  }
 },
 "nbformat": 4,
 "nbformat_minor": 5
}
